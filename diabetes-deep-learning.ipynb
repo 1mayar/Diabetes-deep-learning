{
 "cells": [
  {
   "cell_type": "code",
   "execution_count": 1,
   "id": "950be23c",
   "metadata": {
    "_cell_guid": "b1076dfc-b9ad-4769-8c92-a6c4dae69d19",
    "_uuid": "8f2839f25d086af736a60e9eeb907d3b93b6e0e5",
    "execution": {
     "iopub.execute_input": "2024-06-12T00:33:33.591554Z",
     "iopub.status.busy": "2024-06-12T00:33:33.591132Z",
     "iopub.status.idle": "2024-06-12T00:33:36.254098Z",
     "shell.execute_reply": "2024-06-12T00:33:36.252740Z"
    },
    "papermill": {
     "duration": 2.672147,
     "end_time": "2024-06-12T00:33:36.257050",
     "exception": false,
     "start_time": "2024-06-12T00:33:33.584903",
     "status": "completed"
    },
    "tags": []
   },
   "outputs": [],
   "source": [
    "import pandas as pd\n",
    "import numpy as np\n",
    "from sklearn.model_selection import train_test_split\n"
   ]
  },
  {
   "cell_type": "code",
   "execution_count": 2,
   "id": "97a38de9",
   "metadata": {
    "execution": {
     "iopub.execute_input": "2024-06-12T00:33:36.267929Z",
     "iopub.status.busy": "2024-06-12T00:33:36.266625Z",
     "iopub.status.idle": "2024-06-12T00:33:36.293287Z",
     "shell.execute_reply": "2024-06-12T00:33:36.291778Z"
    },
    "papermill": {
     "duration": 0.034789,
     "end_time": "2024-06-12T00:33:36.296163",
     "exception": false,
     "start_time": "2024-06-12T00:33:36.261374",
     "status": "completed"
    },
    "tags": []
   },
   "outputs": [],
   "source": [
    "df=pd.read_csv(\"/kaggle/input/pima-indians-diabetes-database/diabetes.csv\")"
   ]
  },
  {
   "cell_type": "code",
   "execution_count": 3,
   "id": "42c73772",
   "metadata": {
    "execution": {
     "iopub.execute_input": "2024-06-12T00:33:36.306443Z",
     "iopub.status.busy": "2024-06-12T00:33:36.306051Z",
     "iopub.status.idle": "2024-06-12T00:33:36.335187Z",
     "shell.execute_reply": "2024-06-12T00:33:36.333792Z"
    },
    "papermill": {
     "duration": 0.03771,
     "end_time": "2024-06-12T00:33:36.337838",
     "exception": false,
     "start_time": "2024-06-12T00:33:36.300128",
     "status": "completed"
    },
    "tags": []
   },
   "outputs": [
    {
     "data": {
      "text/html": [
       "<div>\n",
       "<style scoped>\n",
       "    .dataframe tbody tr th:only-of-type {\n",
       "        vertical-align: middle;\n",
       "    }\n",
       "\n",
       "    .dataframe tbody tr th {\n",
       "        vertical-align: top;\n",
       "    }\n",
       "\n",
       "    .dataframe thead th {\n",
       "        text-align: right;\n",
       "    }\n",
       "</style>\n",
       "<table border=\"1\" class=\"dataframe\">\n",
       "  <thead>\n",
       "    <tr style=\"text-align: right;\">\n",
       "      <th></th>\n",
       "      <th>Pregnancies</th>\n",
       "      <th>Glucose</th>\n",
       "      <th>BloodPressure</th>\n",
       "      <th>SkinThickness</th>\n",
       "      <th>Insulin</th>\n",
       "      <th>BMI</th>\n",
       "      <th>DiabetesPedigreeFunction</th>\n",
       "      <th>Age</th>\n",
       "      <th>Outcome</th>\n",
       "    </tr>\n",
       "  </thead>\n",
       "  <tbody>\n",
       "    <tr>\n",
       "      <th>0</th>\n",
       "      <td>6</td>\n",
       "      <td>148</td>\n",
       "      <td>72</td>\n",
       "      <td>35</td>\n",
       "      <td>0</td>\n",
       "      <td>33.6</td>\n",
       "      <td>0.627</td>\n",
       "      <td>50</td>\n",
       "      <td>1</td>\n",
       "    </tr>\n",
       "    <tr>\n",
       "      <th>1</th>\n",
       "      <td>1</td>\n",
       "      <td>85</td>\n",
       "      <td>66</td>\n",
       "      <td>29</td>\n",
       "      <td>0</td>\n",
       "      <td>26.6</td>\n",
       "      <td>0.351</td>\n",
       "      <td>31</td>\n",
       "      <td>0</td>\n",
       "    </tr>\n",
       "    <tr>\n",
       "      <th>2</th>\n",
       "      <td>8</td>\n",
       "      <td>183</td>\n",
       "      <td>64</td>\n",
       "      <td>0</td>\n",
       "      <td>0</td>\n",
       "      <td>23.3</td>\n",
       "      <td>0.672</td>\n",
       "      <td>32</td>\n",
       "      <td>1</td>\n",
       "    </tr>\n",
       "    <tr>\n",
       "      <th>3</th>\n",
       "      <td>1</td>\n",
       "      <td>89</td>\n",
       "      <td>66</td>\n",
       "      <td>23</td>\n",
       "      <td>94</td>\n",
       "      <td>28.1</td>\n",
       "      <td>0.167</td>\n",
       "      <td>21</td>\n",
       "      <td>0</td>\n",
       "    </tr>\n",
       "    <tr>\n",
       "      <th>4</th>\n",
       "      <td>0</td>\n",
       "      <td>137</td>\n",
       "      <td>40</td>\n",
       "      <td>35</td>\n",
       "      <td>168</td>\n",
       "      <td>43.1</td>\n",
       "      <td>2.288</td>\n",
       "      <td>33</td>\n",
       "      <td>1</td>\n",
       "    </tr>\n",
       "  </tbody>\n",
       "</table>\n",
       "</div>"
      ],
      "text/plain": [
       "   Pregnancies  Glucose  BloodPressure  SkinThickness  Insulin   BMI  \\\n",
       "0            6      148             72             35        0  33.6   \n",
       "1            1       85             66             29        0  26.6   \n",
       "2            8      183             64              0        0  23.3   \n",
       "3            1       89             66             23       94  28.1   \n",
       "4            0      137             40             35      168  43.1   \n",
       "\n",
       "   DiabetesPedigreeFunction  Age  Outcome  \n",
       "0                     0.627   50        1  \n",
       "1                     0.351   31        0  \n",
       "2                     0.672   32        1  \n",
       "3                     0.167   21        0  \n",
       "4                     2.288   33        1  "
      ]
     },
     "execution_count": 3,
     "metadata": {},
     "output_type": "execute_result"
    }
   ],
   "source": [
    "df.head()"
   ]
  },
  {
   "cell_type": "code",
   "execution_count": 4,
   "id": "87326360",
   "metadata": {
    "execution": {
     "iopub.execute_input": "2024-06-12T00:33:36.348224Z",
     "iopub.status.busy": "2024-06-12T00:33:36.347824Z",
     "iopub.status.idle": "2024-06-12T00:33:36.360883Z",
     "shell.execute_reply": "2024-06-12T00:33:36.359791Z"
    },
    "papermill": {
     "duration": 0.02106,
     "end_time": "2024-06-12T00:33:36.363256",
     "exception": false,
     "start_time": "2024-06-12T00:33:36.342196",
     "status": "completed"
    },
    "tags": []
   },
   "outputs": [],
   "source": [
    "fc=['Pregnancies','Glucose','BloodPressure','SkinThickness','Insulin','BMI','DiabetesPedigreeFunction','Age']\n",
    "x=df[fc]\n",
    "y=df['Outcome']"
   ]
  },
  {
   "cell_type": "code",
   "execution_count": 5,
   "id": "381322b7",
   "metadata": {
    "execution": {
     "iopub.execute_input": "2024-06-12T00:33:36.373585Z",
     "iopub.status.busy": "2024-06-12T00:33:36.373172Z",
     "iopub.status.idle": "2024-06-12T00:33:36.383647Z",
     "shell.execute_reply": "2024-06-12T00:33:36.382582Z"
    },
    "papermill": {
     "duration": 0.018684,
     "end_time": "2024-06-12T00:33:36.386230",
     "exception": false,
     "start_time": "2024-06-12T00:33:36.367546",
     "status": "completed"
    },
    "tags": []
   },
   "outputs": [],
   "source": [
    "xnorm=x.apply(lambda x :(x-x.min())/(x.max()-x.min()))"
   ]
  },
  {
   "cell_type": "code",
   "execution_count": 6,
   "id": "aaabaec0",
   "metadata": {
    "execution": {
     "iopub.execute_input": "2024-06-12T00:33:36.396470Z",
     "iopub.status.busy": "2024-06-12T00:33:36.396104Z",
     "iopub.status.idle": "2024-06-12T00:33:36.405746Z",
     "shell.execute_reply": "2024-06-12T00:33:36.404758Z"
    },
    "papermill": {
     "duration": 0.017591,
     "end_time": "2024-06-12T00:33:36.408041",
     "exception": false,
     "start_time": "2024-06-12T00:33:36.390450",
     "status": "completed"
    },
    "tags": []
   },
   "outputs": [],
   "source": [
    "x_train,x_test,y_train,y_test=train_test_split(xnorm,y,test_size=0.25,random_state=42)"
   ]
  },
  {
   "cell_type": "code",
   "execution_count": 7,
   "id": "41bc7209",
   "metadata": {
    "execution": {
     "iopub.execute_input": "2024-06-12T00:33:36.418303Z",
     "iopub.status.busy": "2024-06-12T00:33:36.417913Z",
     "iopub.status.idle": "2024-06-12T00:33:36.427124Z",
     "shell.execute_reply": "2024-06-12T00:33:36.425811Z"
    },
    "papermill": {
     "duration": 0.01727,
     "end_time": "2024-06-12T00:33:36.429560",
     "exception": false,
     "start_time": "2024-06-12T00:33:36.412290",
     "status": "completed"
    },
    "tags": []
   },
   "outputs": [],
   "source": [
    "ytrainhot=pd.get_dummies(y_train)\n",
    "target=ytrainhot.columns \n",
    "y_train=np.array(ytrainhot)\n"
   ]
  },
  {
   "cell_type": "code",
   "execution_count": 8,
   "id": "42961551",
   "metadata": {
    "execution": {
     "iopub.execute_input": "2024-06-12T00:33:36.440233Z",
     "iopub.status.busy": "2024-06-12T00:33:36.439825Z",
     "iopub.status.idle": "2024-06-12T00:33:36.446113Z",
     "shell.execute_reply": "2024-06-12T00:33:36.444949Z"
    },
    "papermill": {
     "duration": 0.01406,
     "end_time": "2024-06-12T00:33:36.448375",
     "exception": false,
     "start_time": "2024-06-12T00:33:36.434315",
     "status": "completed"
    },
    "tags": []
   },
   "outputs": [],
   "source": [
    "ytesthot=pd.get_dummies(y_test)\n",
    "target=ytesthot.columns\n",
    "y_test=np.array(ytesthot)"
   ]
  },
  {
   "cell_type": "code",
   "execution_count": 9,
   "id": "36628f6e",
   "metadata": {
    "execution": {
     "iopub.execute_input": "2024-06-12T00:33:36.458743Z",
     "iopub.status.busy": "2024-06-12T00:33:36.458307Z",
     "iopub.status.idle": "2024-06-12T00:33:36.468162Z",
     "shell.execute_reply": "2024-06-12T00:33:36.466859Z"
    },
    "papermill": {
     "duration": 0.017966,
     "end_time": "2024-06-12T00:33:36.470814",
     "exception": false,
     "start_time": "2024-06-12T00:33:36.452848",
     "status": "completed"
    },
    "tags": []
   },
   "outputs": [
    {
     "data": {
      "text/plain": [
       "array([[ True, False],\n",
       "       [ True, False],\n",
       "       [ True, False],\n",
       "       [ True, False],\n",
       "       [ True, False],\n",
       "       [ True, False],\n",
       "       [ True, False],\n",
       "       [ True, False],\n",
       "       [ True, False],\n",
       "       [ True, False],\n",
       "       [False,  True],\n",
       "       [ True, False],\n",
       "       [False,  True],\n",
       "       [ True, False],\n",
       "       [ True, False],\n",
       "       [False,  True],\n",
       "       [ True, False],\n",
       "       [ True, False],\n",
       "       [False,  True],\n",
       "       [False,  True],\n",
       "       [ True, False],\n",
       "       [ True, False],\n",
       "       [ True, False],\n",
       "       [ True, False],\n",
       "       [ True, False],\n",
       "       [False,  True],\n",
       "       [ True, False],\n",
       "       [ True, False],\n",
       "       [False,  True],\n",
       "       [ True, False],\n",
       "       [False,  True],\n",
       "       [False,  True],\n",
       "       [False,  True],\n",
       "       [False,  True],\n",
       "       [ True, False],\n",
       "       [False,  True],\n",
       "       [False,  True],\n",
       "       [False,  True],\n",
       "       [ True, False],\n",
       "       [False,  True],\n",
       "       [ True, False],\n",
       "       [ True, False],\n",
       "       [ True, False],\n",
       "       [False,  True],\n",
       "       [ True, False],\n",
       "       [False,  True],\n",
       "       [False,  True],\n",
       "       [ True, False],\n",
       "       [ True, False],\n",
       "       [ True, False],\n",
       "       [ True, False],\n",
       "       [False,  True],\n",
       "       [False,  True],\n",
       "       [False,  True],\n",
       "       [ True, False],\n",
       "       [ True, False],\n",
       "       [ True, False],\n",
       "       [ True, False],\n",
       "       [ True, False],\n",
       "       [False,  True],\n",
       "       [False,  True],\n",
       "       [ True, False],\n",
       "       [ True, False],\n",
       "       [False,  True],\n",
       "       [ True, False],\n",
       "       [ True, False],\n",
       "       [ True, False],\n",
       "       [False,  True],\n",
       "       [ True, False],\n",
       "       [False,  True],\n",
       "       [ True, False],\n",
       "       [ True, False],\n",
       "       [ True, False],\n",
       "       [False,  True],\n",
       "       [ True, False],\n",
       "       [ True, False],\n",
       "       [ True, False],\n",
       "       [ True, False],\n",
       "       [ True, False],\n",
       "       [ True, False],\n",
       "       [False,  True],\n",
       "       [False,  True],\n",
       "       [ True, False],\n",
       "       [ True, False],\n",
       "       [ True, False],\n",
       "       [False,  True],\n",
       "       [False,  True],\n",
       "       [False,  True],\n",
       "       [ True, False],\n",
       "       [ True, False],\n",
       "       [ True, False],\n",
       "       [ True, False],\n",
       "       [ True, False],\n",
       "       [False,  True],\n",
       "       [ True, False],\n",
       "       [ True, False],\n",
       "       [ True, False],\n",
       "       [ True, False],\n",
       "       [False,  True],\n",
       "       [ True, False],\n",
       "       [ True, False],\n",
       "       [ True, False],\n",
       "       [False,  True],\n",
       "       [ True, False],\n",
       "       [False,  True],\n",
       "       [ True, False],\n",
       "       [ True, False],\n",
       "       [False,  True],\n",
       "       [False,  True],\n",
       "       [False,  True],\n",
       "       [ True, False],\n",
       "       [ True, False],\n",
       "       [ True, False],\n",
       "       [False,  True],\n",
       "       [ True, False],\n",
       "       [ True, False],\n",
       "       [False,  True],\n",
       "       [ True, False],\n",
       "       [ True, False],\n",
       "       [ True, False],\n",
       "       [ True, False],\n",
       "       [ True, False],\n",
       "       [False,  True],\n",
       "       [ True, False],\n",
       "       [ True, False],\n",
       "       [ True, False],\n",
       "       [False,  True],\n",
       "       [False,  True],\n",
       "       [False,  True],\n",
       "       [ True, False],\n",
       "       [False,  True],\n",
       "       [False,  True],\n",
       "       [ True, False],\n",
       "       [False,  True],\n",
       "       [False,  True],\n",
       "       [ True, False],\n",
       "       [False,  True],\n",
       "       [False,  True],\n",
       "       [False,  True],\n",
       "       [ True, False],\n",
       "       [ True, False],\n",
       "       [ True, False],\n",
       "       [ True, False],\n",
       "       [ True, False],\n",
       "       [ True, False],\n",
       "       [ True, False],\n",
       "       [False,  True],\n",
       "       [ True, False],\n",
       "       [ True, False],\n",
       "       [False,  True],\n",
       "       [ True, False],\n",
       "       [ True, False],\n",
       "       [False,  True],\n",
       "       [ True, False],\n",
       "       [ True, False],\n",
       "       [False,  True],\n",
       "       [ True, False],\n",
       "       [ True, False],\n",
       "       [False,  True],\n",
       "       [ True, False],\n",
       "       [False,  True],\n",
       "       [False,  True],\n",
       "       [ True, False],\n",
       "       [ True, False],\n",
       "       [ True, False],\n",
       "       [False,  True],\n",
       "       [ True, False],\n",
       "       [ True, False],\n",
       "       [ True, False],\n",
       "       [False,  True],\n",
       "       [ True, False],\n",
       "       [False,  True],\n",
       "       [False,  True],\n",
       "       [ True, False],\n",
       "       [ True, False],\n",
       "       [ True, False],\n",
       "       [ True, False],\n",
       "       [ True, False],\n",
       "       [False,  True],\n",
       "       [False,  True],\n",
       "       [ True, False],\n",
       "       [ True, False],\n",
       "       [ True, False],\n",
       "       [False,  True],\n",
       "       [False,  True],\n",
       "       [ True, False],\n",
       "       [ True, False],\n",
       "       [ True, False],\n",
       "       [False,  True],\n",
       "       [ True, False],\n",
       "       [False,  True],\n",
       "       [ True, False]])"
      ]
     },
     "execution_count": 9,
     "metadata": {},
     "output_type": "execute_result"
    }
   ],
   "source": [
    "y_test\n"
   ]
  },
  {
   "cell_type": "code",
   "execution_count": 10,
   "id": "2124fb5e",
   "metadata": {
    "execution": {
     "iopub.execute_input": "2024-06-12T00:33:36.482233Z",
     "iopub.status.busy": "2024-06-12T00:33:36.481802Z",
     "iopub.status.idle": "2024-06-12T00:33:36.489026Z",
     "shell.execute_reply": "2024-06-12T00:33:36.487962Z"
    },
    "papermill": {
     "duration": 0.016092,
     "end_time": "2024-06-12T00:33:36.491576",
     "exception": false,
     "start_time": "2024-06-12T00:33:36.475484",
     "status": "completed"
    },
    "tags": []
   },
   "outputs": [
    {
     "data": {
      "text/plain": [
       "8"
      ]
     },
     "execution_count": 10,
     "metadata": {},
     "output_type": "execute_result"
    }
   ],
   "source": [
    "x_train.shape[1]\n"
   ]
  },
  {
   "cell_type": "code",
   "execution_count": 11,
   "id": "527bc344",
   "metadata": {
    "execution": {
     "iopub.execute_input": "2024-06-12T00:33:36.502657Z",
     "iopub.status.busy": "2024-06-12T00:33:36.501936Z",
     "iopub.status.idle": "2024-06-12T00:33:57.820210Z",
     "shell.execute_reply": "2024-06-12T00:33:57.818935Z"
    },
    "papermill": {
     "duration": 21.32639,
     "end_time": "2024-06-12T00:33:57.822605",
     "exception": false,
     "start_time": "2024-06-12T00:33:36.496215",
     "status": "completed"
    },
    "tags": []
   },
   "outputs": [
    {
     "name": "stderr",
     "output_type": "stream",
     "text": [
      "2024-06-12 00:33:39.140330: E external/local_xla/xla/stream_executor/cuda/cuda_dnn.cc:9261] Unable to register cuDNN factory: Attempting to register factory for plugin cuDNN when one has already been registered\n",
      "2024-06-12 00:33:39.140516: E external/local_xla/xla/stream_executor/cuda/cuda_fft.cc:607] Unable to register cuFFT factory: Attempting to register factory for plugin cuFFT when one has already been registered\n",
      "2024-06-12 00:33:39.320030: E external/local_xla/xla/stream_executor/cuda/cuda_blas.cc:1515] Unable to register cuBLAS factory: Attempting to register factory for plugin cuBLAS when one has already been registered\n",
      "/opt/conda/lib/python3.10/site-packages/keras/src/layers/core/dense.py:87: UserWarning: Do not pass an `input_shape`/`input_dim` argument to a layer. When using Sequential models, prefer using an `Input(shape)` object as the first layer in the model instead.\n",
      "  super().__init__(activity_regularizer=activity_regularizer, **kwargs)\n"
     ]
    },
    {
     "name": "stdout",
     "output_type": "stream",
     "text": [
      "Epoch 1/100\n",
      "\u001b[1m13/13\u001b[0m \u001b[32m━━━━━━━━━━━━━━━━━━━━\u001b[0m\u001b[37m\u001b[0m \u001b[1m2s\u001b[0m 24ms/step - accuracy: 0.6391 - loss: 0.6842 - val_accuracy: 0.6532 - val_loss: 0.6591\n",
      "Epoch 2/100\n",
      "\u001b[1m13/13\u001b[0m \u001b[32m━━━━━━━━━━━━━━━━━━━━\u001b[0m\u001b[37m\u001b[0m \u001b[1m0s\u001b[0m 5ms/step - accuracy: 0.6661 - loss: 0.6550 - val_accuracy: 0.6532 - val_loss: 0.6449\n",
      "Epoch 3/100\n",
      "\u001b[1m13/13\u001b[0m \u001b[32m━━━━━━━━━━━━━━━━━━━━\u001b[0m\u001b[37m\u001b[0m \u001b[1m0s\u001b[0m 5ms/step - accuracy: 0.6384 - loss: 0.6488 - val_accuracy: 0.6647 - val_loss: 0.6174\n",
      "Epoch 4/100\n",
      "\u001b[1m13/13\u001b[0m \u001b[32m━━━━━━━━━━━━━━━━━━━━\u001b[0m\u001b[37m\u001b[0m \u001b[1m0s\u001b[0m 5ms/step - accuracy: 0.6622 - loss: 0.6048 - val_accuracy: 0.7225 - val_loss: 0.5953\n",
      "Epoch 5/100\n",
      "\u001b[1m13/13\u001b[0m \u001b[32m━━━━━━━━━━━━━━━━━━━━\u001b[0m\u001b[37m\u001b[0m \u001b[1m0s\u001b[0m 5ms/step - accuracy: 0.7013 - loss: 0.5859 - val_accuracy: 0.7052 - val_loss: 0.5650\n",
      "Epoch 6/100\n",
      "\u001b[1m13/13\u001b[0m \u001b[32m━━━━━━━━━━━━━━━━━━━━\u001b[0m\u001b[37m\u001b[0m \u001b[1m0s\u001b[0m 5ms/step - accuracy: 0.7481 - loss: 0.5404 - val_accuracy: 0.7168 - val_loss: 0.5544\n",
      "Epoch 7/100\n",
      "\u001b[1m13/13\u001b[0m \u001b[32m━━━━━━━━━━━━━━━━━━━━\u001b[0m\u001b[37m\u001b[0m \u001b[1m0s\u001b[0m 5ms/step - accuracy: 0.7560 - loss: 0.4996 - val_accuracy: 0.7514 - val_loss: 0.5330\n",
      "Epoch 8/100\n",
      "\u001b[1m13/13\u001b[0m \u001b[32m━━━━━━━━━━━━━━━━━━━━\u001b[0m\u001b[37m\u001b[0m \u001b[1m0s\u001b[0m 5ms/step - accuracy: 0.7461 - loss: 0.4965 - val_accuracy: 0.7399 - val_loss: 0.5171\n",
      "Epoch 9/100\n",
      "\u001b[1m13/13\u001b[0m \u001b[32m━━━━━━━━━━━━━━━━━━━━\u001b[0m\u001b[37m\u001b[0m \u001b[1m0s\u001b[0m 5ms/step - accuracy: 0.7816 - loss: 0.4573 - val_accuracy: 0.7514 - val_loss: 0.5091\n",
      "Epoch 10/100\n",
      "\u001b[1m13/13\u001b[0m \u001b[32m━━━━━━━━━━━━━━━━━━━━\u001b[0m\u001b[37m\u001b[0m \u001b[1m0s\u001b[0m 5ms/step - accuracy: 0.7807 - loss: 0.4904 - val_accuracy: 0.7514 - val_loss: 0.4937\n",
      "Epoch 11/100\n",
      "\u001b[1m13/13\u001b[0m \u001b[32m━━━━━━━━━━━━━━━━━━━━\u001b[0m\u001b[37m\u001b[0m \u001b[1m0s\u001b[0m 5ms/step - accuracy: 0.7776 - loss: 0.4630 - val_accuracy: 0.7457 - val_loss: 0.4913\n",
      "Epoch 12/100\n",
      "\u001b[1m13/13\u001b[0m \u001b[32m━━━━━━━━━━━━━━━━━━━━\u001b[0m\u001b[37m\u001b[0m \u001b[1m0s\u001b[0m 5ms/step - accuracy: 0.7769 - loss: 0.4173 - val_accuracy: 0.7399 - val_loss: 0.4896\n",
      "Epoch 13/100\n",
      "\u001b[1m13/13\u001b[0m \u001b[32m━━━━━━━━━━━━━━━━━━━━\u001b[0m\u001b[37m\u001b[0m \u001b[1m0s\u001b[0m 5ms/step - accuracy: 0.7785 - loss: 0.4433 - val_accuracy: 0.7225 - val_loss: 0.5433\n",
      "Epoch 14/100\n",
      "\u001b[1m13/13\u001b[0m \u001b[32m━━━━━━━━━━━━━━━━━━━━\u001b[0m\u001b[37m\u001b[0m \u001b[1m0s\u001b[0m 6ms/step - accuracy: 0.7828 - loss: 0.4629 - val_accuracy: 0.7225 - val_loss: 0.4982\n",
      "Epoch 15/100\n",
      "\u001b[1m13/13\u001b[0m \u001b[32m━━━━━━━━━━━━━━━━━━━━\u001b[0m\u001b[37m\u001b[0m \u001b[1m0s\u001b[0m 5ms/step - accuracy: 0.7807 - loss: 0.4701 - val_accuracy: 0.7399 - val_loss: 0.4712\n",
      "Epoch 16/100\n",
      "\u001b[1m13/13\u001b[0m \u001b[32m━━━━━━━━━━━━━━━━━━━━\u001b[0m\u001b[37m\u001b[0m \u001b[1m0s\u001b[0m 5ms/step - accuracy: 0.8001 - loss: 0.4131 - val_accuracy: 0.7630 - val_loss: 0.4648\n",
      "Epoch 17/100\n",
      "\u001b[1m13/13\u001b[0m \u001b[32m━━━━━━━━━━━━━━━━━━━━\u001b[0m\u001b[37m\u001b[0m \u001b[1m0s\u001b[0m 5ms/step - accuracy: 0.7859 - loss: 0.4303 - val_accuracy: 0.7572 - val_loss: 0.4683\n",
      "Epoch 18/100\n",
      "\u001b[1m13/13\u001b[0m \u001b[32m━━━━━━━━━━━━━━━━━━━━\u001b[0m\u001b[37m\u001b[0m \u001b[1m0s\u001b[0m 5ms/step - accuracy: 0.8004 - loss: 0.4220 - val_accuracy: 0.7630 - val_loss: 0.4575\n",
      "Epoch 19/100\n",
      "\u001b[1m13/13\u001b[0m \u001b[32m━━━━━━━━━━━━━━━━━━━━\u001b[0m\u001b[37m\u001b[0m \u001b[1m0s\u001b[0m 5ms/step - accuracy: 0.8179 - loss: 0.3883 - val_accuracy: 0.7746 - val_loss: 0.5028\n",
      "Epoch 20/100\n",
      "\u001b[1m13/13\u001b[0m \u001b[32m━━━━━━━━━━━━━━━━━━━━\u001b[0m\u001b[37m\u001b[0m \u001b[1m0s\u001b[0m 5ms/step - accuracy: 0.7806 - loss: 0.4193 - val_accuracy: 0.7630 - val_loss: 0.4746\n",
      "Epoch 21/100\n",
      "\u001b[1m13/13\u001b[0m \u001b[32m━━━━━━━━━━━━━━━━━━━━\u001b[0m\u001b[37m\u001b[0m \u001b[1m0s\u001b[0m 5ms/step - accuracy: 0.8194 - loss: 0.4266 - val_accuracy: 0.7688 - val_loss: 0.4846\n",
      "Epoch 22/100\n",
      "\u001b[1m13/13\u001b[0m \u001b[32m━━━━━━━━━━━━━━━━━━━━\u001b[0m\u001b[37m\u001b[0m \u001b[1m0s\u001b[0m 5ms/step - accuracy: 0.8308 - loss: 0.4114 - val_accuracy: 0.7688 - val_loss: 0.5112\n",
      "Epoch 23/100\n",
      "\u001b[1m13/13\u001b[0m \u001b[32m━━━━━━━━━━━━━━━━━━━━\u001b[0m\u001b[37m\u001b[0m \u001b[1m0s\u001b[0m 5ms/step - accuracy: 0.7935 - loss: 0.4452 - val_accuracy: 0.7746 - val_loss: 0.4824\n",
      "Epoch 24/100\n",
      "\u001b[1m13/13\u001b[0m \u001b[32m━━━━━━━━━━━━━━━━━━━━\u001b[0m\u001b[37m\u001b[0m \u001b[1m0s\u001b[0m 5ms/step - accuracy: 0.8221 - loss: 0.3842 - val_accuracy: 0.7746 - val_loss: 0.4600\n",
      "Epoch 25/100\n",
      "\u001b[1m13/13\u001b[0m \u001b[32m━━━━━━━━━━━━━━━━━━━━\u001b[0m\u001b[37m\u001b[0m \u001b[1m0s\u001b[0m 5ms/step - accuracy: 0.8121 - loss: 0.3992 - val_accuracy: 0.7572 - val_loss: 0.4534\n",
      "Epoch 26/100\n",
      "\u001b[1m13/13\u001b[0m \u001b[32m━━━━━━━━━━━━━━━━━━━━\u001b[0m\u001b[37m\u001b[0m \u001b[1m0s\u001b[0m 5ms/step - accuracy: 0.8322 - loss: 0.4055 - val_accuracy: 0.7630 - val_loss: 0.4520\n",
      "Epoch 27/100\n",
      "\u001b[1m13/13\u001b[0m \u001b[32m━━━━━━━━━━━━━━━━━━━━\u001b[0m\u001b[37m\u001b[0m \u001b[1m0s\u001b[0m 5ms/step - accuracy: 0.8408 - loss: 0.3632 - val_accuracy: 0.7746 - val_loss: 0.4602\n",
      "Epoch 28/100\n",
      "\u001b[1m13/13\u001b[0m \u001b[32m━━━━━━━━━━━━━━━━━━━━\u001b[0m\u001b[37m\u001b[0m \u001b[1m0s\u001b[0m 5ms/step - accuracy: 0.7949 - loss: 0.4074 - val_accuracy: 0.7399 - val_loss: 0.4514\n",
      "Epoch 29/100\n",
      "\u001b[1m13/13\u001b[0m \u001b[32m━━━━━━━━━━━━━━━━━━━━\u001b[0m\u001b[37m\u001b[0m \u001b[1m0s\u001b[0m 5ms/step - accuracy: 0.8395 - loss: 0.3615 - val_accuracy: 0.7514 - val_loss: 0.4443\n",
      "Epoch 30/100\n",
      "\u001b[1m13/13\u001b[0m \u001b[32m━━━━━━━━━━━━━━━━━━━━\u001b[0m\u001b[37m\u001b[0m \u001b[1m0s\u001b[0m 5ms/step - accuracy: 0.8435 - loss: 0.3522 - val_accuracy: 0.7514 - val_loss: 0.4589\n",
      "Epoch 31/100\n",
      "\u001b[1m13/13\u001b[0m \u001b[32m━━━━━━━━━━━━━━━━━━━━\u001b[0m\u001b[37m\u001b[0m \u001b[1m0s\u001b[0m 5ms/step - accuracy: 0.8277 - loss: 0.3707 - val_accuracy: 0.7630 - val_loss: 0.4425\n",
      "Epoch 32/100\n",
      "\u001b[1m13/13\u001b[0m \u001b[32m━━━━━━━━━━━━━━━━━━━━\u001b[0m\u001b[37m\u001b[0m \u001b[1m0s\u001b[0m 5ms/step - accuracy: 0.8430 - loss: 0.3296 - val_accuracy: 0.7861 - val_loss: 0.4895\n",
      "Epoch 33/100\n",
      "\u001b[1m13/13\u001b[0m \u001b[32m━━━━━━━━━━━━━━━━━━━━\u001b[0m\u001b[37m\u001b[0m \u001b[1m0s\u001b[0m 5ms/step - accuracy: 0.8308 - loss: 0.3881 - val_accuracy: 0.7514 - val_loss: 0.4481\n",
      "Epoch 34/100\n",
      "\u001b[1m13/13\u001b[0m \u001b[32m━━━━━━━━━━━━━━━━━━━━\u001b[0m\u001b[37m\u001b[0m \u001b[1m0s\u001b[0m 5ms/step - accuracy: 0.8626 - loss: 0.3161 - val_accuracy: 0.7572 - val_loss: 0.4501\n",
      "Epoch 35/100\n",
      "\u001b[1m13/13\u001b[0m \u001b[32m━━━━━━━━━━━━━━━━━━━━\u001b[0m\u001b[37m\u001b[0m \u001b[1m0s\u001b[0m 5ms/step - accuracy: 0.8620 - loss: 0.3095 - val_accuracy: 0.7688 - val_loss: 0.4512\n",
      "Epoch 36/100\n",
      "\u001b[1m13/13\u001b[0m \u001b[32m━━━━━━━━━━━━━━━━━━━━\u001b[0m\u001b[37m\u001b[0m \u001b[1m0s\u001b[0m 5ms/step - accuracy: 0.8342 - loss: 0.3578 - val_accuracy: 0.7457 - val_loss: 0.4521\n",
      "Epoch 37/100\n",
      "\u001b[1m13/13\u001b[0m \u001b[32m━━━━━━━━━━━━━━━━━━━━\u001b[0m\u001b[37m\u001b[0m \u001b[1m0s\u001b[0m 5ms/step - accuracy: 0.8438 - loss: 0.3280 - val_accuracy: 0.7572 - val_loss: 0.4576\n",
      "Epoch 38/100\n",
      "\u001b[1m13/13\u001b[0m \u001b[32m━━━━━━━━━━━━━━━━━━━━\u001b[0m\u001b[37m\u001b[0m \u001b[1m0s\u001b[0m 5ms/step - accuracy: 0.8454 - loss: 0.3478 - val_accuracy: 0.7399 - val_loss: 0.5060\n",
      "Epoch 39/100\n",
      "\u001b[1m13/13\u001b[0m \u001b[32m━━━━━━━━━━━━━━━━━━━━\u001b[0m\u001b[37m\u001b[0m \u001b[1m0s\u001b[0m 5ms/step - accuracy: 0.8270 - loss: 0.3542 - val_accuracy: 0.7630 - val_loss: 0.4471\n",
      "Epoch 40/100\n",
      "\u001b[1m13/13\u001b[0m \u001b[32m━━━━━━━━━━━━━━━━━━━━\u001b[0m\u001b[37m\u001b[0m \u001b[1m0s\u001b[0m 5ms/step - accuracy: 0.8557 - loss: 0.3385 - val_accuracy: 0.7341 - val_loss: 0.4509\n",
      "Epoch 41/100\n",
      "\u001b[1m13/13\u001b[0m \u001b[32m━━━━━━━━━━━━━━━━━━━━\u001b[0m\u001b[37m\u001b[0m \u001b[1m0s\u001b[0m 7ms/step - accuracy: 0.8807 - loss: 0.3162 - val_accuracy: 0.7341 - val_loss: 0.4632\n"
     ]
    },
    {
     "data": {
      "text/plain": [
       "<keras.src.callbacks.history.History at 0x78b7892ddf60>"
      ]
     },
     "execution_count": 11,
     "metadata": {},
     "output_type": "execute_result"
    }
   ],
   "source": [
    "from keras.callbacks import EarlyStopping \n",
    "from keras.layers import Dense\n",
    "from keras.models import Sequential\n",
    "e=EarlyStopping(patience=10)\n",
    "inpu=x_train.shape[1]\n",
    "model=Sequential()\n",
    "model.add(Dense(100,activation='relu',input_shape=(inpu,)))\n",
    "model.add(Dense(100,activation='relu'))\n",
    "model.add(Dense(100,activation='relu'))\n",
    "model.add(Dense(50,activation='relu'))\n",
    "model.add(Dense(40,activation='relu'))\n",
    "model.add(Dense(2,activation='softmax'))\n",
    "model.compile(optimizer='adam',loss='categorical_crossentropy',metrics=['accuracy'])\n",
    "model.fit(x_train,y_train,validation_split=0.3,epochs=100,callbacks=[e])"
   ]
  },
  {
   "cell_type": "code",
   "execution_count": 12,
   "id": "9057c3f0",
   "metadata": {
    "execution": {
     "iopub.execute_input": "2024-06-12T00:33:57.850478Z",
     "iopub.status.busy": "2024-06-12T00:33:57.849804Z",
     "iopub.status.idle": "2024-06-12T00:33:58.024962Z",
     "shell.execute_reply": "2024-06-12T00:33:58.023268Z"
    },
    "papermill": {
     "duration": 0.192208,
     "end_time": "2024-06-12T00:33:58.027777",
     "exception": false,
     "start_time": "2024-06-12T00:33:57.835569",
     "status": "completed"
    },
    "tags": []
   },
   "outputs": [
    {
     "name": "stdout",
     "output_type": "stream",
     "text": [
      "\u001b[1m6/6\u001b[0m \u001b[32m━━━━━━━━━━━━━━━━━━━━\u001b[0m\u001b[37m\u001b[0m \u001b[1m0s\u001b[0m 2ms/step \n"
     ]
    }
   ],
   "source": [
    "y_predict=model.predict(x_test)"
   ]
  },
  {
   "cell_type": "code",
   "execution_count": 13,
   "id": "d8b22465",
   "metadata": {
    "execution": {
     "iopub.execute_input": "2024-06-12T00:33:58.055479Z",
     "iopub.status.busy": "2024-06-12T00:33:58.055006Z",
     "iopub.status.idle": "2024-06-12T00:33:58.069830Z",
     "shell.execute_reply": "2024-06-12T00:33:58.068438Z"
    },
    "papermill": {
     "duration": 0.031639,
     "end_time": "2024-06-12T00:33:58.072303",
     "exception": false,
     "start_time": "2024-06-12T00:33:58.040664",
     "status": "completed"
    },
    "tags": []
   },
   "outputs": [
    {
     "data": {
      "text/plain": [
       "array([[0.65231675, 0.34768328],\n",
       "       [0.92256075, 0.07743923],\n",
       "       [0.9658789 , 0.03412114],\n",
       "       [0.89488155, 0.10511848],\n",
       "       [0.45800245, 0.5419976 ],\n",
       "       [0.62055224, 0.3794477 ],\n",
       "       [0.9950666 , 0.00493331],\n",
       "       [0.58472514, 0.41527492],\n",
       "       [0.0921233 , 0.9078766 ],\n",
       "       [0.5021806 , 0.49781945],\n",
       "       [0.85563856, 0.14436145],\n",
       "       [0.07698783, 0.9230122 ],\n",
       "       [0.5188764 , 0.4811237 ],\n",
       "       [0.54777074, 0.4522293 ],\n",
       "       [0.9380858 , 0.06191422],\n",
       "       [0.275108  , 0.72489196],\n",
       "       [0.9298089 , 0.07019105],\n",
       "       [0.97113645, 0.02886347],\n",
       "       [0.35113755, 0.6488625 ],\n",
       "       [0.09330062, 0.90669936],\n",
       "       [0.8401574 , 0.1598427 ],\n",
       "       [0.9820264 , 0.01797356],\n",
       "       [0.47290948, 0.52709055],\n",
       "       [0.9864154 , 0.01358457],\n",
       "       [0.38272995, 0.6172701 ],\n",
       "       [0.04489907, 0.95510083],\n",
       "       [0.91910416, 0.08089588],\n",
       "       [0.99319476, 0.00680517],\n",
       "       [0.9720938 , 0.02790619],\n",
       "       [0.9114123 , 0.08858772],\n",
       "       [0.02470912, 0.97529083],\n",
       "       [0.28852102, 0.71147895],\n",
       "       [0.04578178, 0.95421827],\n",
       "       [0.03468268, 0.9653174 ],\n",
       "       [0.17070478, 0.82929516],\n",
       "       [0.1190323 , 0.8809677 ],\n",
       "       [0.03426875, 0.9657312 ],\n",
       "       [0.33933416, 0.66066575],\n",
       "       [0.9400776 , 0.05992252],\n",
       "       [0.04542427, 0.9545757 ],\n",
       "       [0.95614743, 0.04385248],\n",
       "       [0.6221498 , 0.37785015],\n",
       "       [0.5440477 , 0.4559523 ],\n",
       "       [0.74881274, 0.25118718],\n",
       "       [0.9947103 , 0.00528972],\n",
       "       [0.12960637, 0.8703935 ],\n",
       "       [0.31708196, 0.68291795],\n",
       "       [0.80296856, 0.19703136],\n",
       "       [0.96307415, 0.03692584],\n",
       "       [0.01517929, 0.98482066],\n",
       "       [0.9863905 , 0.01360954],\n",
       "       [0.16659513, 0.83340484],\n",
       "       [0.06583437, 0.9341658 ],\n",
       "       [0.8591173 , 0.1408827 ],\n",
       "       [0.983073  , 0.01692704],\n",
       "       [0.98950356, 0.01049641],\n",
       "       [0.5107012 , 0.48929867],\n",
       "       [0.99668443, 0.00331565],\n",
       "       [0.28397226, 0.71602774],\n",
       "       [0.07695198, 0.9230481 ],\n",
       "       [0.11621164, 0.88378835],\n",
       "       [0.3315086 , 0.6684915 ],\n",
       "       [0.12096704, 0.8790329 ],\n",
       "       [0.48754928, 0.5124507 ],\n",
       "       [0.99514955, 0.00485049],\n",
       "       [0.17241684, 0.82758313],\n",
       "       [0.9792158 , 0.02078414],\n",
       "       [0.19476497, 0.8052351 ],\n",
       "       [0.99575514, 0.00424486],\n",
       "       [0.11410636, 0.8858936 ],\n",
       "       [0.10109953, 0.89890033],\n",
       "       [0.97386414, 0.02613577],\n",
       "       [0.9825244 , 0.01747561],\n",
       "       [0.9872146 , 0.01278538],\n",
       "       [0.91256803, 0.08743192],\n",
       "       [0.2956495 , 0.7043506 ],\n",
       "       [0.5943312 , 0.40566874],\n",
       "       [0.8609279 , 0.13907216],\n",
       "       [0.9570221 , 0.04297786],\n",
       "       [0.8420462 , 0.15795383],\n",
       "       [0.17170191, 0.82829803],\n",
       "       [0.8757277 , 0.12427232],\n",
       "       [0.9648346 , 0.03516544],\n",
       "       [0.6703084 , 0.32969156],\n",
       "       [0.5950287 , 0.4049713 ],\n",
       "       [0.02830103, 0.9716989 ],\n",
       "       [0.10275371, 0.8972462 ],\n",
       "       [0.4775488 , 0.5224511 ],\n",
       "       [0.92380965, 0.07619037],\n",
       "       [0.9682158 , 0.03178407],\n",
       "       [0.9857946 , 0.0142054 ],\n",
       "       [0.7708535 , 0.22914644],\n",
       "       [0.9975456 , 0.00245439],\n",
       "       [0.93170667, 0.06829332],\n",
       "       [0.24065323, 0.7593468 ],\n",
       "       [0.08385217, 0.9161478 ],\n",
       "       [0.65146416, 0.34853587],\n",
       "       [0.8856946 , 0.11430537],\n",
       "       [0.3566257 , 0.6433743 ],\n",
       "       [0.94283354, 0.05716642],\n",
       "       [0.03697211, 0.9630279 ],\n",
       "       [0.995417  , 0.00458298],\n",
       "       [0.21402861, 0.7859714 ],\n",
       "       [0.17768171, 0.8223184 ],\n",
       "       [0.27345344, 0.72654647],\n",
       "       [0.9493734 , 0.05062656],\n",
       "       [0.29337987, 0.7066201 ],\n",
       "       [0.04465818, 0.9553418 ],\n",
       "       [0.9432045 , 0.05679556],\n",
       "       [0.20561598, 0.79438406],\n",
       "       [0.89600426, 0.10399567],\n",
       "       [0.84354675, 0.1564532 ],\n",
       "       [0.99022937, 0.00977065],\n",
       "       [0.16348961, 0.83651036],\n",
       "       [0.9008975 , 0.09910236],\n",
       "       [0.29317325, 0.7068267 ],\n",
       "       [0.05924348, 0.94075644],\n",
       "       [0.7208244 , 0.27917546],\n",
       "       [0.98833025, 0.01166978],\n",
       "       [0.6184331 , 0.3815669 ],\n",
       "       [0.9887877 , 0.0112123 ],\n",
       "       [0.63536036, 0.36463958],\n",
       "       [0.8425982 , 0.15740176],\n",
       "       [0.9883208 , 0.01167923],\n",
       "       [0.6994255 , 0.3005744 ],\n",
       "       [0.56435204, 0.4356479 ],\n",
       "       [0.9876524 , 0.01234765],\n",
       "       [0.18998215, 0.8100178 ],\n",
       "       [0.08692601, 0.913074  ],\n",
       "       [0.03902258, 0.9609774 ],\n",
       "       [0.11379339, 0.8862065 ],\n",
       "       [0.07330333, 0.9266966 ],\n",
       "       [0.9942487 , 0.00575125],\n",
       "       [0.28680915, 0.71319085],\n",
       "       [0.03822169, 0.9617783 ],\n",
       "       [0.93081295, 0.06918705],\n",
       "       [0.94415236, 0.05584765],\n",
       "       [0.18875657, 0.81124353],\n",
       "       [0.16838463, 0.8316154 ],\n",
       "       [0.9959669 , 0.00403313],\n",
       "       [0.9354878 , 0.06451219],\n",
       "       [0.9880297 , 0.01197026],\n",
       "       [0.8159722 , 0.18402778],\n",
       "       [0.7677185 , 0.23228155],\n",
       "       [0.91998404, 0.08001597],\n",
       "       [0.64419067, 0.35580927],\n",
       "       [0.89010394, 0.109896  ],\n",
       "       [0.9933489 , 0.00665105],\n",
       "       [0.47294402, 0.52705586],\n",
       "       [0.17852901, 0.821471  ],\n",
       "       [0.91501385, 0.08498612],\n",
       "       [0.9119063 , 0.08809366],\n",
       "       [0.40142646, 0.5985735 ],\n",
       "       [0.555047  , 0.444953  ],\n",
       "       [0.9972664 , 0.00273365],\n",
       "       [0.43267173, 0.5673282 ],\n",
       "       [0.29879823, 0.70120174],\n",
       "       [0.72222406, 0.27777597],\n",
       "       [0.22417375, 0.7758263 ],\n",
       "       [0.9598399 , 0.04016008],\n",
       "       [0.28971806, 0.71028197],\n",
       "       [0.2720799 , 0.72792   ],\n",
       "       [0.89408976, 0.10591014],\n",
       "       [0.9962361 , 0.00376386],\n",
       "       [0.92991495, 0.070085  ],\n",
       "       [0.05823586, 0.9417642 ],\n",
       "       [0.99456954, 0.00543034],\n",
       "       [0.5402316 , 0.45976835],\n",
       "       [0.03156517, 0.9684349 ],\n",
       "       [0.2931336 , 0.7068665 ],\n",
       "       [0.21103032, 0.78896964],\n",
       "       [0.8388268 , 0.1611732 ],\n",
       "       [0.40808666, 0.5919133 ],\n",
       "       [0.27820837, 0.7217916 ],\n",
       "       [0.13912697, 0.86087304],\n",
       "       [0.9927671 , 0.00723293],\n",
       "       [0.45146412, 0.5485358 ],\n",
       "       [0.17341381, 0.8265861 ],\n",
       "       [0.7061849 , 0.29381517],\n",
       "       [0.7318698 , 0.26813018],\n",
       "       [0.4233109 , 0.576689  ],\n",
       "       [0.17772989, 0.82227015],\n",
       "       [0.67059356, 0.3294065 ],\n",
       "       [0.09877978, 0.9012202 ],\n",
       "       [0.17085132, 0.82914865],\n",
       "       [0.9747431 , 0.02525687],\n",
       "       [0.995398  , 0.00460207],\n",
       "       [0.9156276 , 0.08437232],\n",
       "       [0.1387109 , 0.8612891 ],\n",
       "       [0.28536105, 0.71463895],\n",
       "       [0.9779497 , 0.02205028],\n",
       "       [0.9742646 , 0.02573548]], dtype=float32)"
      ]
     },
     "execution_count": 13,
     "metadata": {},
     "output_type": "execute_result"
    }
   ],
   "source": [
    "y_predict"
   ]
  },
  {
   "cell_type": "code",
   "execution_count": null,
   "id": "453286df",
   "metadata": {
    "papermill": {
     "duration": 0.013133,
     "end_time": "2024-06-12T00:33:58.098807",
     "exception": false,
     "start_time": "2024-06-12T00:33:58.085674",
     "status": "completed"
    },
    "tags": []
   },
   "outputs": [],
   "source": []
  }
 ],
 "metadata": {
  "kaggle": {
   "accelerator": "none",
   "dataSources": [
    {
     "datasetId": 228,
     "sourceId": 482,
     "sourceType": "datasetVersion"
    }
   ],
   "dockerImageVersionId": 30732,
   "isGpuEnabled": false,
   "isInternetEnabled": true,
   "language": "python",
   "sourceType": "notebook"
  },
  "kernelspec": {
   "display_name": "Python 3",
   "language": "python",
   "name": "python3"
  },
  "language_info": {
   "codemirror_mode": {
    "name": "ipython",
    "version": 3
   },
   "file_extension": ".py",
   "mimetype": "text/x-python",
   "name": "python",
   "nbconvert_exporter": "python",
   "pygments_lexer": "ipython3",
   "version": "3.10.13"
  },
  "papermill": {
   "default_parameters": {},
   "duration": 30.129867,
   "end_time": "2024-06-12T00:34:00.730368",
   "environment_variables": {},
   "exception": null,
   "input_path": "__notebook__.ipynb",
   "output_path": "__notebook__.ipynb",
   "parameters": {},
   "start_time": "2024-06-12T00:33:30.600501",
   "version": "2.5.0"
  }
 },
 "nbformat": 4,
 "nbformat_minor": 5
}
